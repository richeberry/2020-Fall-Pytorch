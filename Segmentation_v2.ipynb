{
  "nbformat": 4,
  "nbformat_minor": 0,
  "metadata": {
    "colab": {
      "name": "Segmentation_v2.ipynb",
      "provenance": [],
      "collapsed_sections": [],
      "include_colab_link": true
    },
    "kernelspec": {
      "name": "python3",
      "display_name": "Python 3"
    },
    "accelerator": "GPU"
  },
  "cells": [
    {
      "cell_type": "markdown",
      "metadata": {
        "id": "view-in-github",
        "colab_type": "text"
      },
      "source": [
        "<a href=\"https://colab.research.google.com/github/richeberry/2020-Fall-Pytorch/blob/main/Segmentation_v2.ipynb\" target=\"_parent\"><img src=\"https://colab.research.google.com/assets/colab-badge.svg\" alt=\"Open In Colab\"/></a>"
      ]
    },
    {
      "cell_type": "markdown",
      "metadata": {
        "id": "vegbFIH8DMVk"
      },
      "source": [
        "<br> ======== \n",
        "<br> Initial: Jong-Min Kim, Ph. D., 24-April-2020\n",
        "<br> ======== \n",
        "<br> Modified: Jong-Min Kim, Ph. D., 15-June-2020"
      ]
    },
    {
      "cell_type": "markdown",
      "metadata": {
        "id": "Ajt2OnvImXiw"
      },
      "source": [
        "2020-12-8"
      ]
    },
    {
      "cell_type": "markdown",
      "metadata": {
        "id": "7JFE4A24DVxL"
      },
      "source": [
        "## Preparation"
      ]
    },
    {
      "cell_type": "code",
      "metadata": {
        "id": "tqIUR3UlCuD9",
        "colab": {
          "base_uri": "https://localhost:8080/"
        },
        "outputId": "3281e93c-6629-4468-d355-4ec6d9ae09c7"
      },
      "source": [
        "!pip install SimpleITK\n",
        "!pip install runstats\n",
        "!pip install tensorboardX"
      ],
      "execution_count": null,
      "outputs": [
        {
          "output_type": "stream",
          "text": [
            "Collecting SimpleITK\n",
            "\u001b[?25l  Downloading https://files.pythonhosted.org/packages/f3/cb/a15f4612af8e37f3627fc7fb2f91d07bb584968b0a47e3d5103d7014f93e/SimpleITK-2.0.1-cp36-cp36m-manylinux1_x86_64.whl (44.9MB)\n",
            "\u001b[K     |████████████████████████████████| 44.9MB 69kB/s \n",
            "\u001b[?25hInstalling collected packages: SimpleITK\n",
            "Successfully installed SimpleITK-2.0.1\n",
            "Collecting runstats\n",
            "\u001b[?25l  Downloading https://files.pythonhosted.org/packages/b9/6e/c9b0812b41e9625e09cd900205a1482c07d6c9c3405f8a1ddc3bf576e7a7/runstats-1.8.0.tar.gz (110kB)\n",
            "\u001b[K     |████████████████████████████████| 112kB 5.8MB/s \n",
            "\u001b[?25hBuilding wheels for collected packages: runstats\n",
            "  Building wheel for runstats (setup.py) ... \u001b[?25l\u001b[?25hdone\n",
            "  Created wheel for runstats: filename=runstats-1.8.0-cp36-cp36m-linux_x86_64.whl size=200022 sha256=28f82677560187f64c81313de65a25963cf2bd274eed127f58c64ee65a3848b5\n",
            "  Stored in directory: /root/.cache/pip/wheels/58/f0/2b/509c185283b7a501bcad14d5ab99fd614c80dcb1f894897d0e\n",
            "Successfully built runstats\n",
            "Installing collected packages: runstats\n",
            "Successfully installed runstats-1.8.0\n",
            "Collecting tensorboardX\n",
            "\u001b[?25l  Downloading https://files.pythonhosted.org/packages/af/0c/4f41bcd45db376e6fe5c619c01100e9b7531c55791b7244815bac6eac32c/tensorboardX-2.1-py2.py3-none-any.whl (308kB)\n",
            "\u001b[K     |████████████████████████████████| 317kB 4.1MB/s \n",
            "\u001b[?25hRequirement already satisfied: protobuf>=3.8.0 in /usr/local/lib/python3.6/dist-packages (from tensorboardX) (3.12.4)\n",
            "Requirement already satisfied: numpy in /usr/local/lib/python3.6/dist-packages (from tensorboardX) (1.18.5)\n",
            "Requirement already satisfied: six in /usr/local/lib/python3.6/dist-packages (from tensorboardX) (1.15.0)\n",
            "Requirement already satisfied: setuptools in /usr/local/lib/python3.6/dist-packages (from protobuf>=3.8.0->tensorboardX) (50.3.2)\n",
            "Installing collected packages: tensorboardX\n",
            "Successfully installed tensorboardX-2.1\n"
          ],
          "name": "stdout"
        }
      ]
    },
    {
      "cell_type": "code",
      "metadata": {
        "id": "GjqoPT7yDbu9",
        "colab": {
          "base_uri": "https://localhost:8080/"
        },
        "outputId": "fb56e1ea-8a54-4ddc-813b-8171b4d8460f"
      },
      "source": [
        "from google.colab import drive\n",
        "drive.mount('/content/gdrive')"
      ],
      "execution_count": null,
      "outputs": [
        {
          "output_type": "stream",
          "text": [
            "Drive already mounted at /content/gdrive; to attempt to forcibly remount, call drive.mount(\"/content/gdrive\", force_remount=True).\n"
          ],
          "name": "stdout"
        }
      ]
    },
    {
      "cell_type": "code",
      "metadata": {
        "id": "2h4vf7qNO0_i"
      },
      "source": [
        "import h5py\n",
        "import numpy as np\n",
        "from matplotlib import pyplot as plt"
      ],
      "execution_count": null,
      "outputs": []
    },
    {
      "cell_type": "code",
      "metadata": {
        "id": "fES_xhN2O_A6",
        "colab": {
          "base_uri": "https://localhost:8080/"
        },
        "outputId": "571c1da0-4838-4dee-dc07-8ba5b069aaa6"
      },
      "source": [
        "!python '/content/gdrive/My Drive/2020experiment/20201112/Segm_DL_playground-master_v3/train.py' --num-pools 3 --num-chans 8 --accel_method 'gpu' --batch-size 1 --num-epoch 10 --data-path '/content/gdrive/My Drive/2020experiment/20201112/TrainingData_Splitted' --drop-prob 0.1 --exp-dir '/content/gdrive/My Drive/2020experiment/20201112/ckt/20201112' "
      ],
      "execution_count": null,
      "outputs": [
        {
          "output_type": "stream",
          "text": [
            "INFO:root:Namespace(InChans=1, OutChans=2, accel_method='gpu', batch_size=1, checkpoint=None, data_parallel=False, data_path=PosixPath('/content/gdrive/My Drive/2020experiment/20201112/TrainingData_Splitted'), device='cuda', drop_prob=0.1, exp_dir=PosixPath('/content/gdrive/My Drive/2020experiment/20201112/ckt/20201112'), lr=0.0005, lr_gamma=0.1, lr_step_size=10, naming='PROMISE12_h5', network_model='unet', num_cascades=5, num_chans=8, num_epochs=10, num_pools=3, report_interval=50, resolution=256, resume=False, sample_rate=1.0, seed=42, weigh_L1=0.5, weigh_L_BCE=2.5, weigh_L_dice=8, weight_decay=0.0)\n",
            "INFO:root:UnetModel(\n",
            "  (down_sample_layers): ModuleList(\n",
            "    (0): ConvBlock(in_chans=1, out_chans=8, drop_prob=0.1)\n",
            "    (1): ConvBlock(in_chans=8, out_chans=16, drop_prob=0.1)\n",
            "    (2): ConvBlock(in_chans=16, out_chans=32, drop_prob=0.1)\n",
            "  )\n",
            "  (conv): ConvBlock(in_chans=32, out_chans=64, drop_prob=0.1)\n",
            "  (up_conv): ModuleList(\n",
            "    (0): ConvBlock(in_chans=64, out_chans=32, drop_prob=0.1)\n",
            "    (1): ConvBlock(in_chans=32, out_chans=16, drop_prob=0.1)\n",
            "    (2): Sequential(\n",
            "      (0): ConvBlock(in_chans=16, out_chans=8, drop_prob=0.1)\n",
            "      (1): Conv2d(8, 2, kernel_size=(1, 1), stride=(1, 1))\n",
            "    )\n",
            "  )\n",
            "  (up_transpose_conv): ModuleList(\n",
            "    (0): ConvBlock(in_chans=64, out_chans=32)\n",
            "    (1): ConvBlock(in_chans=32, out_chans=16)\n",
            "    (2): ConvBlock(in_chans=16, out_chans=8)\n",
            "  )\n",
            ")\n",
            "/usr/local/lib/python3.6/dist-packages/torch/optim/lr_scheduler.py:136: UserWarning: Detected call of `lr_scheduler.step()` before `optimizer.step()`. In PyTorch 1.1.0 and later, you should call them in the opposite order: `optimizer.step()` before `lr_scheduler.step()`.  Failure to do this will result in PyTorch skipping the first value of the learning rate schedule. See more details at https://pytorch.org/docs/stable/optim.html#how-to-adjust-learning-rate\n",
            "  \"https://pytorch.org/docs/stable/optim.html#how-to-adjust-learning-rate\", UserWarning)\n",
            "/usr/local/lib/python3.6/dist-packages/torch/optim/lr_scheduler.py:156: UserWarning: The epoch parameter in `scheduler.step()` was not necessary and is being deprecated where possible. Please use `scheduler.step()` to step the scheduler. During the deprecation, if epoch is different from None, the closed form is used instead of the new chainable form, where available. Please open an issue if you are unable to replicate your use case: https://github.com/pytorch/pytorch/issues/new/choose.\n",
            "  warnings.warn(EPOCH_DEPRECATION_WARNING, UserWarning)\n",
            "INFO:root:Epoch = [  0/ 10] Iter = [   0/1137] Loss = 2.727 Avg Loss = 2.727 Time = 0.6849s\n",
            "INFO:root:Epoch = [  0/ 10] Iter = [  50/1137] Loss = 2.093 Avg Loss = 2.518 Time = 0.0336s\n",
            "INFO:root:Epoch = [  0/ 10] Iter = [ 100/1137] Loss = 2.007 Avg Loss = 2.336 Time = 0.0607s\n",
            "INFO:root:Epoch = [  0/ 10] Iter = [ 150/1137] Loss = 1.93 Avg Loss = 2.197 Time = 0.0530s\n",
            "INFO:root:Epoch = [  0/ 10] Iter = [ 200/1137] Loss = 1.878 Avg Loss = 2.089 Time = 0.0447s\n",
            "INFO:root:Epoch = [  0/ 10] Iter = [ 250/1137] Loss = 1.921 Avg Loss = 1.996 Time = 0.0457s\n",
            "INFO:root:Epoch = [  0/ 10] Iter = [ 300/1137] Loss = 1.712 Avg Loss = 1.908 Time = 0.0336s\n",
            "INFO:root:Epoch = [  0/ 10] Iter = [ 350/1137] Loss = 1.655 Avg Loss = 1.831 Time = 0.0641s\n",
            "INFO:root:Epoch = [  0/ 10] Iter = [ 400/1137] Loss = 1.57 Avg Loss = 1.756 Time = 0.0593s\n",
            "INFO:root:Epoch = [  0/ 10] Iter = [ 450/1137] Loss = 1.448 Avg Loss = 1.663 Time = 0.0374s\n",
            "INFO:root:Epoch = [  0/ 10] Iter = [ 500/1137] Loss = 1.348 Avg Loss = 1.578 Time = 0.0390s\n",
            "INFO:root:Epoch = [  0/ 10] Iter = [ 550/1137] Loss = 1.265 Avg Loss = 1.482 Time = 0.0319s\n",
            "INFO:root:Epoch = [  0/ 10] Iter = [ 600/1137] Loss = 1.13 Avg Loss = 1.399 Time = 0.0390s\n",
            "INFO:root:Epoch = [  0/ 10] Iter = [ 650/1137] Loss = 1.08 Avg Loss = 1.311 Time = 0.0473s\n",
            "INFO:root:Epoch = [  0/ 10] Iter = [ 700/1137] Loss = 0.8564 Avg Loss = 1.188 Time = 0.0476s\n",
            "INFO:root:Epoch = [  0/ 10] Iter = [ 750/1137] Loss = 0.8554 Avg Loss = 1.057 Time = 0.0501s\n",
            "INFO:root:Epoch = [  0/ 10] Iter = [ 800/1137] Loss = 0.5917 Avg Loss = 0.909 Time = 0.0519s\n",
            "INFO:root:Epoch = [  0/ 10] Iter = [ 850/1137] Loss = 0.5196 Avg Loss = 0.7834 Time = 0.0577s\n",
            "INFO:root:Epoch = [  0/ 10] Iter = [ 900/1137] Loss = 0.6295 Avg Loss = 0.6466 Time = 0.0657s\n",
            "INFO:root:Epoch = [  0/ 10] Iter = [ 950/1137] Loss = 0.5988 Avg Loss = 0.5137 Time = 0.0454s\n",
            "INFO:root:Epoch = [  0/ 10] Iter = [1000/1137] Loss = 0.01395 Avg Loss = 0.3736 Time = 0.0309s\n",
            "INFO:root:Epoch = [  0/ 10] Iter = [1050/1137] Loss = 0.3142 Avg Loss = 0.2964 Time = 0.0560s\n",
            "INFO:root:Epoch = [  0/ 10] Iter = [1100/1137] Loss = 0.06126 Avg Loss = 0.2357 Time = 0.0201s\n",
            "Traceback (most recent call last):\n",
            "  File \"/content/gdrive/My Drive/2020experiment/20201112/Segm_DL_playground-master_v3/train.py\", line 197, in <module>\n",
            "    main(args)\n",
            "  File \"/content/gdrive/My Drive/2020experiment/20201112/Segm_DL_playground-master_v3/train.py\", line 163, in main\n",
            "    visualize(args, epoch, model, display_loader, writer)\n",
            "  File \"/content/gdrive/My Drive/2020experiment/20201112/Segm_DL_playground-master_v3/common/visualize.py\", line 38, in visualize\n",
            "    save_image(_target, 'Target')\n",
            "  File \"/content/gdrive/My Drive/2020experiment/20201112/Segm_DL_playground-master_v3/common/visualize.py\", line 19, in save_image\n",
            "    image /= image.max()\n",
            "RuntimeError: result type Float can't be cast to the desired output type Long\n"
          ],
          "name": "stdout"
        }
      ]
    },
    {
      "cell_type": "markdown",
      "metadata": {
        "id": "7sBePhaYDZYY"
      },
      "source": [
        "## Training - TPU-based - PROMISE12"
      ]
    },
    {
      "cell_type": "code",
      "metadata": {
        "id": "BGMOXR05DYs4",
        "colab": {
          "base_uri": "https://localhost:8080/"
        },
        "outputId": "1fa83fe7-a6ca-4088-888f-98ecb04c8e4f"
      },
      "source": [
        "VERSION = \"20200325\"  #@param [\"1.5\" , \"20200325\", \"nightly\"]\n",
        "!curl https://raw.githubusercontent.com/pytorch/xla/master/contrib/scripts/env-setup.py -o pytorch-xla-env-setup.py\n",
        "!python pytorch-xla-env-setup.py --version $VERSION"
      ],
      "execution_count": null,
      "outputs": [
        {
          "output_type": "stream",
          "text": [
            "  % Total    % Received % Xferd  Average Speed   Time    Time     Time  Current\n",
            "                                 Dload  Upload   Total   Spent    Left  Speed\n",
            "\r  0     0    0     0    0     0      0      0 --:--:-- --:--:-- --:--:--     0\r100  5116  100  5116    0     0  59488      0 --:--:-- --:--:-- --:--:-- 59488\n",
            "Updating... This may take around 2 minutes.\n",
            "Updating TPU runtime to pytorch-dev20200325 ...\n",
            "Collecting cloud-tpu-client\n",
            "  Downloading https://files.pythonhosted.org/packages/56/9f/7b1958c2886db06feb5de5b2c191096f9e619914b6c31fdf93999fdbbd8b/cloud_tpu_client-0.10-py3-none-any.whl\n",
            "Requirement already satisfied: oauth2client in /usr/local/lib/python3.6/dist-packages (from cloud-tpu-client) (4.1.3)\n",
            "Collecting google-api-python-client==1.8.0\n",
            "\u001b[?25l  Downloading https://files.pythonhosted.org/packages/9a/b4/a955f393b838bc47cbb6ae4643b9d0f90333d3b4db4dc1e819f36aad18cc/google_api_python_client-1.8.0-py3-none-any.whl (57kB)\n",
            "\u001b[K     |████████████████████████████████| 61kB 3.9MB/s \n",
            "\u001b[?25hRequirement already satisfied: httplib2>=0.9.1 in /usr/local/lib/python3.6/dist-packages (from oauth2client->cloud-tpu-client) (0.17.4)\n",
            "Requirement already satisfied: rsa>=3.1.4 in /usr/local/lib/python3.6/dist-packages (from oauth2client->cloud-tpu-client) (4.6)\n",
            "Requirement already satisfied: six>=1.6.1 in /usr/local/lib/python3.6/dist-packages (from oauth2client->cloud-tpu-client) (1.15.0)\n",
            "Requirement already satisfied: pyasn1>=0.1.7 in /usr/local/lib/python3.6/dist-packages (from oauth2client->cloud-tpu-client) (0.4.8)\n",
            "Requirement already satisfied: pyasn1-modules>=0.0.5 in /usr/local/lib/python3.6/dist-packages (from oauth2client->cloud-tpu-client) (0.2.8)\n",
            "Requirement already satisfied: google-auth>=1.4.1 in /usr/local/lib/python3.6/dist-packages (from google-api-python-client==1.8.0->cloud-tpu-client) (1.17.2)\n",
            "Requirement already satisfied: google-api-core<2dev,>=1.13.0 in /usr/local/lib/python3.6/dist-packages (from google-api-python-client==1.8.0->cloud-tpu-client) (1.16.0)\n",
            "Requirement already satisfied: google-auth-httplib2>=0.0.3 in /usr/local/lib/python3.6/dist-packages (from google-api-python-client==1.8.0->cloud-tpu-client) (0.0.4)\n",
            "Requirement already satisfied: uritemplate<4dev,>=3.0.0 in /usr/local/lib/python3.6/dist-packages (from google-api-python-client==1.8.0->cloud-tpu-client) (3.0.1)\n",
            "Requirement already satisfied: setuptools>=40.3.0 in /usr/local/lib/python3.6/dist-packages (from google-auth>=1.4.1->google-api-python-client==1.8.0->cloud-tpu-client) (50.3.2)\n",
            "Requirement already satisfied: cachetools<5.0,>=2.0.0 in /usr/local/lib/python3.6/dist-packages (from google-auth>=1.4.1->google-api-python-client==1.8.0->cloud-tpu-client) (4.1.1)\n",
            "Uninstalling torch-1.7.0+cu101:\n",
            "Requirement already satisfied: requests<3.0.0dev,>=2.18.0 in /usr/local/lib/python3.6/dist-packages (from google-api-core<2dev,>=1.13.0->google-api-python-client==1.8.0->cloud-tpu-client) (2.23.0)\n",
            "Requirement already satisfied: protobuf>=3.4.0 in /usr/local/lib/python3.6/dist-packages (from google-api-core<2dev,>=1.13.0->google-api-python-client==1.8.0->cloud-tpu-client) (3.12.4)\n",
            "Requirement already satisfied: pytz in /usr/local/lib/python3.6/dist-packages (from google-api-core<2dev,>=1.13.0->google-api-python-client==1.8.0->cloud-tpu-client) (2018.9)\n",
            "Requirement already satisfied: googleapis-common-protos<2.0dev,>=1.6.0 in /usr/local/lib/python3.6/dist-packages (from google-api-core<2dev,>=1.13.0->google-api-python-client==1.8.0->cloud-tpu-client) (1.52.0)\n",
            "Requirement already satisfied: chardet<4,>=3.0.2 in /usr/local/lib/python3.6/dist-packages (from requests<3.0.0dev,>=2.18.0->google-api-core<2dev,>=1.13.0->google-api-python-client==1.8.0->cloud-tpu-client) (3.0.4)\n",
            "Requirement already satisfied: certifi>=2017.4.17 in /usr/local/lib/python3.6/dist-packages (from requests<3.0.0dev,>=2.18.0->google-api-core<2dev,>=1.13.0->google-api-python-client==1.8.0->cloud-tpu-client) (2020.6.20)\n",
            "Requirement already satisfied: urllib3!=1.25.0,!=1.25.1,<1.26,>=1.21.1 in /usr/local/lib/python3.6/dist-packages (from requests<3.0.0dev,>=2.18.0->google-api-core<2dev,>=1.13.0->google-api-python-client==1.8.0->cloud-tpu-client) (1.24.3)\n",
            "Requirement already satisfied: idna<3,>=2.5 in /usr/local/lib/python3.6/dist-packages (from requests<3.0.0dev,>=2.18.0->google-api-core<2dev,>=1.13.0->google-api-python-client==1.8.0->cloud-tpu-client) (2.10)\n",
            "Installing collected packages: google-api-python-client, cloud-tpu-client\n",
            "  Found existing installation: google-api-python-client 1.7.12\n",
            "    Uninstalling google-api-python-client-1.7.12:\n",
            "      Successfully uninstalled google-api-python-client-1.7.12\n",
            "Successfully installed cloud-tpu-client-0.10 google-api-python-client-1.8.0\n",
            "Done updating TPU runtime\n",
            "  Successfully uninstalled torch-1.7.0+cu101\n",
            "Uninstalling torchvision-0.8.1+cu101:\n",
            "  Successfully uninstalled torchvision-0.8.1+cu101\n",
            "Copying gs://tpu-pytorch/wheels/torch-nightly+20200325-cp36-cp36m-linux_x86_64.whl...\n",
            "-\n",
            "Operation completed over 1 objects/83.4 MiB.                                     \n",
            "Copying gs://tpu-pytorch/wheels/torch_xla-nightly+20200325-cp36-cp36m-linux_x86_64.whl...\n",
            "- [1 files][114.5 MiB/114.5 MiB]                                                \n",
            "Operation completed over 1 objects/114.5 MiB.                                    \n",
            "Copying gs://tpu-pytorch/wheels/torchvision-nightly+20200325-cp36-cp36m-linux_x86_64.whl...\n",
            "/ [1 files][  2.5 MiB/  2.5 MiB]                                                \n",
            "Operation completed over 1 objects/2.5 MiB.                                      \n",
            "Processing ./torch-nightly+20200325-cp36-cp36m-linux_x86_64.whl\n",
            "Requirement already satisfied: numpy in /usr/local/lib/python3.6/dist-packages (from torch==nightly+20200325) (1.18.5)\n",
            "Requirement already satisfied: future in /usr/local/lib/python3.6/dist-packages (from torch==nightly+20200325) (0.16.0)\n",
            "\u001b[31mERROR: fastai 1.0.61 requires torchvision, which is not installed.\u001b[0m\n",
            "Installing collected packages: torch\n",
            "Successfully installed torch-1.5.0a0+d6149a7\n",
            "Processing ./torch_xla-nightly+20200325-cp36-cp36m-linux_x86_64.whl\n",
            "Installing collected packages: torch-xla\n",
            "Successfully installed torch-xla-1.6+e788e5b\n",
            "Processing ./torchvision-nightly+20200325-cp36-cp36m-linux_x86_64.whl\n",
            "Requirement already satisfied: torch in /usr/local/lib/python3.6/dist-packages (from torchvision==nightly+20200325) (1.5.0a0+d6149a7)\n",
            "Requirement already satisfied: numpy in /usr/local/lib/python3.6/dist-packages (from torchvision==nightly+20200325) (1.18.5)\n",
            "Requirement already satisfied: pillow>=4.1.1 in /usr/local/lib/python3.6/dist-packages (from torchvision==nightly+20200325) (7.0.0)\n",
            "Requirement already satisfied: six in /usr/local/lib/python3.6/dist-packages (from torchvision==nightly+20200325) (1.15.0)\n",
            "Requirement already satisfied: future in /usr/local/lib/python3.6/dist-packages (from torch->torchvision==nightly+20200325) (0.16.0)\n",
            "Installing collected packages: torchvision\n",
            "Successfully installed torchvision-0.6.0a0+3c254fb\n",
            "Reading package lists... Done\n",
            "Building dependency tree       \n",
            "Reading state information... Done\n",
            "The following NEW packages will be installed:\n",
            "  libomp5\n",
            "0 upgraded, 1 newly installed, 0 to remove and 12 not upgraded.\n",
            "Need to get 234 kB of archives.\n",
            "After this operation, 774 kB of additional disk space will be used.\n",
            "Get:1 http://archive.ubuntu.com/ubuntu bionic/universe amd64 libomp5 amd64 5.0.1-1 [234 kB]\n",
            "Fetched 234 kB in 1s (332 kB/s)\n",
            "Selecting previously unselected package libomp5:amd64.\n",
            "(Reading database ... 144786 files and directories currently installed.)\n",
            "Preparing to unpack .../libomp5_5.0.1-1_amd64.deb ...\n",
            "Unpacking libomp5:amd64 (5.0.1-1) ...\n",
            "Setting up libomp5:amd64 (5.0.1-1) ...\n",
            "Processing triggers for libc-bin (2.27-3ubuntu1.2) ...\n",
            "/sbin/ldconfig.real: /usr/local/lib/python3.6/dist-packages/ideep4py/lib/libmkldnn.so.0 is not a symbolic link\n",
            "\n"
          ],
          "name": "stdout"
        }
      ]
    },
    {
      "cell_type": "code",
      "metadata": {
        "id": "2xIC0XS-QXe9",
        "colab": {
          "base_uri": "https://localhost:8080/"
        },
        "outputId": "2b1dabe6-2501-4c25-a863-3ec702f58f5b"
      },
      "source": [
        "!python '/content/gdrive/My Drive/2020experiment/20201112/Segm_DL_playground-master_v3/train.py'"
      ],
      "execution_count": null,
      "outputs": [
        {
          "output_type": "stream",
          "text": [
            "Traceback (most recent call last):\n",
            "  File \"/content/gdrive/My Drive/2020experiment/20201112/Segm_DL_playground-master_v3/train.py\", line 29, in <module>\n",
            "    from models.multipath_net.multipath_net_model import rf101\n",
            "ModuleNotFoundError: No module named 'models.multipath_net'\n"
          ],
          "name": "stdout"
        }
      ]
    },
    {
      "cell_type": "code",
      "metadata": {
        "id": "07B955grV0ZL",
        "colab": {
          "base_uri": "https://localhost:8080/"
        },
        "outputId": "5e20b72f-ce37-4b23-ce29-651a1c8d104e"
      },
      "source": [
        "from google.colab import drive\n",
        "drive.mount('/content/drive')"
      ],
      "execution_count": null,
      "outputs": [
        {
          "output_type": "stream",
          "text": [
            "Mounted at /content/drive\n"
          ],
          "name": "stdout"
        }
      ]
    },
    {
      "cell_type": "markdown",
      "metadata": {
        "id": "JKEspQCuRB4C"
      },
      "source": [
        "## Test - TPU-based - PROMISE12"
      ]
    },
    {
      "cell_type": "code",
      "metadata": {
        "id": "mB5hHsLARFex",
        "colab": {
          "base_uri": "https://localhost:8080/"
        },
        "outputId": "da987877-dc3e-4a46-8fbf-f2f9cbf99cb7"
      },
      "source": [
        "!python '/content/gdrive/My Drive/Google_Colab_Notebooks/Segmentation_using_DL/Segm_DL_playground-master_v3/test.py' --out-dir '/content/gdrive/My Drive/Google_Colab_Notebooks/Segmentation_using_DL/out_dir/15Jun20_2' --checkpoint '/content/gdrive/My Drive/Google_Colab_Notebooks/Segmentation_using_DL/ckt/15Jun20/best_model.pt' --num-pools 6 --num-chans 8 --accel_method 'tpu' --batch-size 4 --data-path '/content/gdrive/My Drive/Google_Colab_Notebooks/Segmentation_using_DL/TrainingData_Splitted' --drop-prob 0.1 --exp-dir '/content/gdrive/My Drive/Google_Colab_Notebooks/Segmentation_using_DL/checkpoints' "
      ],
      "execution_count": null,
      "outputs": [
        {
          "output_type": "stream",
          "text": [
            "python3: can't open file '/content/gdrive/My Drive/Google_Colab_Notebooks/Segmentation_using_DL/Segm_DL_playground-master_v3/test.py': [Errno 2] No such file or directory\n"
          ],
          "name": "stdout"
        }
      ]
    },
    {
      "cell_type": "code",
      "metadata": {
        "id": "eS1toATEzryR"
      },
      "source": [
        "import h5py"
      ],
      "execution_count": null,
      "outputs": []
    },
    {
      "cell_type": "code",
      "metadata": {
        "id": "MkUnd-VBzOpy",
        "colab": {
          "base_uri": "https://localhost:8080/",
          "height": 71
        },
        "outputId": "6e1e80cc-416b-4306-e69e-cc77e3a940b3"
      },
      "source": [
        "file = '/content/gdrive/My Drive/Google_Colab_Notebooks/Segmentation_using_DL/out_dir/15Jun20_2/PROMISE12_train_data_12.h5'\n",
        "hf = h5py.File(file)"
      ],
      "execution_count": null,
      "outputs": [
        {
          "output_type": "stream",
          "text": [
            "/usr/local/lib/python3.6/dist-packages/ipykernel_launcher.py:2: H5pyDeprecationWarning: The default file mode will change to 'r' (read-only) in h5py 3.0. To suppress this warning, pass the mode you need to h5py.File(), or set the global default h5.get_config().default_file_mode, or set the environment variable H5PY_DEFAULT_READONLY=1. Available modes are: 'r', 'r+', 'w', 'w-'/'x', 'a'. See the docs for details.\n",
            "  \n"
          ],
          "name": "stderr"
        }
      ]
    },
    {
      "cell_type": "code",
      "metadata": {
        "id": "pQVOF_q7zyK1",
        "colab": {
          "base_uri": "https://localhost:8080/",
          "height": 51
        },
        "outputId": "bc82eca2-6999-474c-ab75-8f7fca9e47f8"
      },
      "source": [
        "print('Keys:', list(hf.keys()))\n",
        "print('Attrs:', dict(hf.attrs))"
      ],
      "execution_count": null,
      "outputs": [
        {
          "output_type": "stream",
          "text": [
            "Keys: ['reconstruction']\n",
            "Attrs: {}\n"
          ],
          "name": "stdout"
        }
      ]
    },
    {
      "cell_type": "code",
      "metadata": {
        "id": "lqXbMBHTDnyh",
        "colab": {
          "base_uri": "https://localhost:8080/",
          "height": 51
        },
        "outputId": "7b341c95-2ba6-4c4f-865b-05607557629d"
      },
      "source": [
        "volume_kspace = hf['reconstruction'][()]\n",
        "print(volume_kspace.dtype)\n",
        "print(volume_kspace.shape)"
      ],
      "execution_count": null,
      "outputs": [
        {
          "output_type": "stream",
          "text": [
            "int64\n",
            "(46, 1, 256, 256)\n"
          ],
          "name": "stdout"
        }
      ]
    }
  ]
}